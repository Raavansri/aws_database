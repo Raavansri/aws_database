{
 "cells": [
  {
   "cell_type": "code",
   "execution_count": null,
   "id": "f4ba2b65",
   "metadata": {},
   "outputs": [],
   "source": [
    "import tensorflow as tf\n",
    "from tensorflow.keras.optimizers import RMSprop\n",
    "import matplotlib.pyplot as plt\n",
    "import os\n",
    "import cv2\n",
    "import pickle\n",
    "import random\n",
    "import numpy as np\n",
    "import boto3, re, sys, math, json, os, sagemaker, urllib.request\n",
    "from sagemaker.session import s3_input, Session"
   ]
  },
  {
   "cell_type": "code",
   "execution_count": null,
   "id": "cbbd29c5",
   "metadata": {},
   "outputs": [],
   "source": [
    "my_region = boto3.session.Session().region_name\n",
    "print(my_region)\n",
    "bucket_name = 'sagemakerml'"
   ]
  },
  {
   "cell_type": "code",
   "execution_count": null,
   "id": "2e8e5857",
   "metadata": {},
   "outputs": [],
   "source": [
    "s3=boto3.resource('s3')\n",
    "role = sagemaker.get_execution_role()\n",
    "for bucket in s3.buckets.all(): print(bucket.name)"
   ]
  },
  {
   "cell_type": "code",
   "execution_count": null,
   "id": "6ef32197",
   "metadata": {},
   "outputs": [],
   "source": [
    "s3=boto3.resource('s3')\n",
    "\n",
    "for b in s3.Bucket('sagemakerml').objects.all():\n",
    "    ttt=os.path.join(b.bucket_name,b.key)"
   ]
  },
  {
   "cell_type": "code",
   "execution_count": null,
   "id": "f8a1db1f",
   "metadata": {},
   "outputs": [],
   "source": [
    "ttt"
   ]
  },
  {
   "cell_type": "code",
   "execution_count": null,
   "id": "327d7b88",
   "metadata": {},
   "outputs": [],
   "source": [
    "import matplotlib.image as im\n",
    "\n",
    "s3 = boto3.resource('s3', region_name='us-east-1')\n",
    "bucket=s3.Bucket(bucket_name)\n",
    "obj=bucket.Object('/train/lambo/1.jpg')\n",
    "obj.download_file('1.jpg')\n",
    "img=im.imread('1.jpg')\n",
    "plt.imhsow(img)"
   ]
  },
  {
   "cell_type": "code",
   "execution_count": null,
   "id": "bf572156",
   "metadata": {},
   "outputs": [],
   "source": [
    "output_path ='s3://{}'.format(ttt)\n",
    "print(output_path)"
   ]
  },
  {
   "cell_type": "code",
   "execution_count": null,
   "id": "0776bdbf",
   "metadata": {},
   "outputs": [],
   "source": [
    "img=cv2.imread(ttt)\n",
    "print(img)"
   ]
  },
  {
   "cell_type": "code",
   "execution_count": null,
   "id": "20a2fb44",
   "metadata": {},
   "outputs": [],
   "source": [
    "fil='1.jpg'\n",
    "tt='s3://{}/train/lambo/{}'.format(bucket_name,fil)\n",
    "tt"
   ]
  }
 ],
 "metadata": {
  "kernelspec": {
   "display_name": "conda_tensorflow2_p36",
   "language": "python",
   "name": "conda_tensorflow2_p36"
  },
  "language_info": {
   "codemirror_mode": {
    "name": "ipython",
    "version": 3
   },
   "file_extension": ".py",
   "mimetype": "text/x-python",
   "name": "python",
   "nbconvert_exporter": "python",
   "pygments_lexer": "ipython3",
   "version": "3.6.13"
  }
 },
 "nbformat": 4,
 "nbformat_minor": 5
}
